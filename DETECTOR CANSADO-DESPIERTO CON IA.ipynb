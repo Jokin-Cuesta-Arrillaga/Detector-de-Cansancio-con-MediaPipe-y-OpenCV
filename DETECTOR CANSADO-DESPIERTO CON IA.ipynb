{
 "cells": [
  {
   "cell_type": "markdown",
   "metadata": {},
   "source": [
    "<div style=\"width: 100%; clear: both;\">\n",
    "<div style=\"float: left; width: 50%;\">\n",
    "</div>\n",
    "<div style=\"float: right; width: 50%;\">\n",
    "<p style=\"margin: 100; padding-top: 22px; text-align:right;\">Jokin Cuesta Arrillaga</p>\n",
    "</div>\n",
    "</div>\n",
    "<div style=\"width:100%;\">&nbsp;</div>\n",
    "\n",
    "\n",
    "# IA: DETECTOR DE CANSANCIO CON MEDIAPIPE Y OPENCV\n",
    "\n",
    "\n",
    "**Importante:** este proyecto se ha realizado en base al vídeo: *AI Body Language Decoder with MediaPipe and Python in 90 Minutes* de Nicholas Renotte. El proyecto se ha llevado a cabo con el único fin de desarrollar habilidades y en **ningún caso ha sido para obtener ningún beneficio económico.**\n",
    "\n",
    ">A lo largo de este proyecto se utilizará  Mediapipe para estimar puntos de referencia tanto faciales como corporales, obtenidos directamente de una WebCam a través de la OpenCV . Con esos datos, se crearán modelos personalizados de clasificación de poses que le permitan decodificar lo que una persona podría estar diciendo con su lenguaje corporal con gran precisión, adaptando a las necesidades de cada aplicación. En este proyecto en concreto, se tratará de realizar detección de somnolencia para conductores."
   ]
  },
  {
   "cell_type": "markdown",
   "metadata": {},
   "source": [
    "---\n",
    "\n",
    "\n",
    "**Antes de nada, instalaremos todas las dependencias que necesitaremos en este proyecto. Esta es la lista con las librerías necesarias:**\n",
    "\n",
    " - **MediaPipe:** ofrece soluciones de ML como el reconocimiento facial, mallas faciales, holístico, poses, detección de objetos, Motion Tracking etc. Para nuestra propuesta, utilizaremos el holístico, lo que nos permitirá reconocer en vivo de la pose humana simultánea , los puntos de referencia faciales y el seguimiento de mano. Obtendremos puntos coordenadas numéricas de articulaciones los cuales guardaremos en un .csv para su posterior tratamiento. Se puede apreciar mejor en este .gif obtenido de https://google.github.io/mediapipe/solutions/holistic.html.\n",
    " \n",
    "<div style=\"width: 100%; clear: both;\">\n",
    "<div style=\"float: center; width: 100%;\">\n",
    "<img src=\"https://google.github.io/mediapipe/images/mobile/holistic_sports_and_gestures_example.gif\", align=\"center\">\n",
    "\n",
    " - **OpenCV:** Lo utilizaremos para obtener, renderizar y procesar la imagen de la cámara.\n",
    " - **Pandas:** Para el tratamiento de los datos obtenidos.\n",
    " - **Scikit-learn:** Para llevar adelante todos los modelos de ML.\n",
    " "
   ]
  },
  {
   "cell_type": "code",
   "execution_count": 1,
   "metadata": {},
   "outputs": [
    {
     "name": "stdout",
     "output_type": "stream",
     "text": [
      "Requirement already satisfied: mediapipe in c:\\users\\jokin cuesta\\anaconda3\\lib\\site-packages (0.8.10)\n",
      "Requirement already satisfied: opencv-python in c:\\users\\jokin cuesta\\anaconda3\\lib\\site-packages (4.6.0.66)\n",
      "Requirement already satisfied: pandas in c:\\users\\jokin cuesta\\anaconda3\\lib\\site-packages (1.2.4)\n",
      "Requirement already satisfied: scikit-learn in c:\\users\\jokin cuesta\\anaconda3\\lib\\site-packages (0.24.1)\n",
      "Requirement already satisfied: protobuf>=3.11.4 in c:\\users\\jokin cuesta\\anaconda3\\lib\\site-packages (from mediapipe) (3.20.1)\n",
      "Requirement already satisfied: matplotlib in c:\\users\\jokin cuesta\\anaconda3\\lib\\site-packages (from mediapipe) (3.3.4)\n",
      "Requirement already satisfied: numpy in c:\\users\\jokin cuesta\\anaconda3\\lib\\site-packages (from mediapipe) (1.20.1)\n",
      "Requirement already satisfied: attrs>=19.1.0 in c:\\users\\jokin cuesta\\anaconda3\\lib\\site-packages (from mediapipe) (20.3.0)\n",
      "Requirement already satisfied: absl-py in c:\\users\\jokin cuesta\\anaconda3\\lib\\site-packages (from mediapipe) (1.1.0)\n",
      "Requirement already satisfied: opencv-contrib-python in c:\\users\\jokin cuesta\\anaconda3\\lib\\site-packages (from mediapipe) (4.6.0.66)\n",
      "Requirement already satisfied: python-dateutil>=2.7.3 in c:\\users\\jokin cuesta\\anaconda3\\lib\\site-packages (from pandas) (2.8.1)\n",
      "Requirement already satisfied: pytz>=2017.3 in c:\\users\\jokin cuesta\\anaconda3\\lib\\site-packages (from pandas) (2021.1)\n",
      "Requirement already satisfied: six>=1.5 in c:\\users\\jokin cuesta\\anaconda3\\lib\\site-packages (from python-dateutil>=2.7.3->pandas) (1.15.0)\n",
      "Requirement already satisfied: threadpoolctl>=2.0.0 in c:\\users\\jokin cuesta\\anaconda3\\lib\\site-packages (from scikit-learn) (2.1.0)\n",
      "Requirement already satisfied: joblib>=0.11 in c:\\users\\jokin cuesta\\anaconda3\\lib\\site-packages (from scikit-learn) (1.0.1)\n",
      "Requirement already satisfied: scipy>=0.19.1 in c:\\users\\jokin cuesta\\anaconda3\\lib\\site-packages (from scikit-learn) (1.6.2)\n",
      "Requirement already satisfied: pyparsing!=2.0.4,!=2.1.2,!=2.1.6,>=2.0.3 in c:\\users\\jokin cuesta\\anaconda3\\lib\\site-packages (from matplotlib->mediapipe) (2.4.7)\n",
      "Requirement already satisfied: kiwisolver>=1.0.1 in c:\\users\\jokin cuesta\\anaconda3\\lib\\site-packages (from matplotlib->mediapipe) (1.3.1)\n",
      "Requirement already satisfied: cycler>=0.10 in c:\\users\\jokin cuesta\\anaconda3\\lib\\site-packages (from matplotlib->mediapipe) (0.10.0)\n",
      "Requirement already satisfied: pillow>=6.2.0 in c:\\users\\jokin cuesta\\anaconda3\\lib\\site-packages (from matplotlib->mediapipe) (8.2.0)\n"
     ]
    }
   ],
   "source": [
    "!pip install mediapipe opencv-python pandas scikit-learn"
   ]
  },
  {
   "cell_type": "markdown",
   "metadata": {},
   "source": [
    ">Nota: a día 20/6/2022, existe un problema con las versiones de protobuf cuando se quiere cargar mediapipe. Para solucionarlo, se debe cargar la versión anterior con *!pip install --upgrade protobuf==3.20.1*."
   ]
  },
  {
   "cell_type": "code",
   "execution_count": 2,
   "metadata": {},
   "outputs": [],
   "source": [
    "#!pip install --upgrade protobuf==3.20.1\n",
    "import mediapipe as mp    #Importamos mediapipe\n",
    "import cv2                #Importamos opencv"
   ]
  },
  {
   "cell_type": "code",
   "execution_count": 3,
   "metadata": {},
   "outputs": [],
   "source": [
    "mp_drawing = mp.solutions.drawing_utils   #Ayudas para dibujar\n",
    "mp_holistic = mp.solutions.holistic       #Soluciones de Mediapipe"
   ]
  },
  {
   "cell_type": "markdown",
   "metadata": {},
   "source": [
    "<a id=\"ej1\"></a>\n",
    "\n",
    "## 1. REALIZAR ALGUNAS DETECCIONES\n",
    "\n",
    "En este apartado se realizarán algunas detecciones para la comprobación del correcto funcionamiento."
   ]
  },
  {
   "cell_type": "code",
   "execution_count": 4,
   "metadata": {},
   "outputs": [],
   "source": [
    "# Conectamos a la cámara frontal (Webcam)\n",
    "cap = cv2.VideoCapture(0)\n",
    "\n",
    "# Iniciamos el modelo holístico\n",
    "with mp_holistic.Holistic(min_detection_confidence=0.5, min_tracking_confidence=0.5) as holistic:\n",
    "    \n",
    "    while cap.isOpened():\n",
    "\n",
    "        # Se guarda la imagen en frame\n",
    "        ret, frame = cap.read()      \n",
    "        \n",
    "        # Reformatear: BGR -> RGB\n",
    "        image = cv2.cvtColor(frame, cv2.COLOR_BGR2RGB)\n",
    "        \n",
    "        #Para proteger las imágenes\n",
    "        image.flags.writeable = False\n",
    "        \n",
    "        #Aplicamos el process para obtener el modelo holistico:\n",
    "        results = holistic.process(image)               \n",
    "        \n",
    "        # RGB -> BGR para renderizar\n",
    "        image.flags.writeable = True  \n",
    "        image = cv2.cvtColor(image, cv2.COLOR_RGB2BGR)\n",
    "        \n",
    "        # 1. Face landmarks\n",
    "        mp_drawing.draw_landmarks(image, results.face_landmarks, mp_holistic.FACEMESH_TESSELATION, \n",
    "                                 mp_drawing.DrawingSpec(color=(80,110,10), thickness=1, circle_radius=1),\n",
    "                                 mp_drawing.DrawingSpec(color=(80,256,121), thickness=1, circle_radius=1)\n",
    "                                 )\n",
    "        \n",
    "        # 2. Right hand\n",
    "        mp_drawing.draw_landmarks(image, results.right_hand_landmarks, mp_holistic.HAND_CONNECTIONS, \n",
    "                                 mp_drawing.DrawingSpec(color=(80,22,10), thickness=2, circle_radius=4),\n",
    "                                 mp_drawing.DrawingSpec(color=(80,44,121), thickness=2, circle_radius=2)\n",
    "                                 )\n",
    "\n",
    "        # 3. Left Hand\n",
    "        mp_drawing.draw_landmarks(image, results.left_hand_landmarks, mp_holistic.HAND_CONNECTIONS, \n",
    "                                 mp_drawing.DrawingSpec(color=(121,22,76), thickness=2, circle_radius=4),\n",
    "                                 mp_drawing.DrawingSpec(color=(121,44,250), thickness=2, circle_radius=2)\n",
    "                                 )\n",
    "\n",
    "        # 4. Pose Detections\n",
    "        mp_drawing.draw_landmarks(image, results.pose_landmarks, mp_holistic.POSE_CONNECTIONS, \n",
    "                                 mp_drawing.DrawingSpec(color=(245,117,66), thickness=2, circle_radius=4),\n",
    "                                 mp_drawing.DrawingSpec(color=(245,66,230), thickness=2, circle_radius=2)\n",
    "                                 )\n",
    "        \n",
    "        # Mostramos la imagen                \n",
    "        cv2.imshow('Raw Webcam Feed', image)\n",
    "\n",
    "        # Para salir, pulsamos la tecla 'q'\n",
    "        if cv2.waitKey(10) & 0xFF == ord('q'):\n",
    "            break\n",
    "\n",
    "cap.release()\n",
    "cv2.destroyAllWindows()"
   ]
  },
  {
   "cell_type": "markdown",
   "metadata": {},
   "source": [
    "<div class=\"alert alert-block alert-info\">\n",
    "Se observa en la imagen siguiente que la detección es correcta.\n",
    "    \n",
    "---\n",
    "    \n",
    " \n",
    "    \n",
    "![imagen de holistic](https://i.ibb.co/bRwV3C3/holistic.png)\n",
    "\n",
    "---\n",
    "Ahora, todas las landmarks se guardan en results. Si se escribe directamente el valor de results, obtendremos '*mediapipe.python.solution_base.SolutionOutputs*'. Pero, results está construido por 4 modelos: face_landmarks, right_hand_landmarks, left_hand_landmarks y pose landmarks. \n",
    "\n",
    "    \n",
    "    \n",
    "---\n",
    "    \n",
    "Todos los landmarks del pose que detecta MediaPipe (33) se recogen en la siguiente imagen:\n",
    "<div style=\"width: 100%; clear: both;\">\n",
    "<div style=\"float: center; width: 100%;\">\n",
    "<img src=\"https://google.github.io/mediapipe/images/mobile/pose_tracking_full_body_landmarks.png\", align=\"center\">\n",
    "\n",
    "---\n",
    "    \n",
    "Ahora, si compilamos *results.face_landmarks.landmark[0]*, obtendremos las coordenadas en 3D de la nariz:"
   ]
  },
  {
   "cell_type": "code",
   "execution_count": 5,
   "metadata": {},
   "outputs": [
    {
     "data": {
      "text/plain": [
       "x: 0.5337157845497131\n",
       "y: 0.7088602781295776\n",
       "z: -0.036886997520923615"
      ]
     },
     "execution_count": 5,
     "metadata": {},
     "output_type": "execute_result"
    }
   ],
   "source": [
    "results.face_landmarks.landmark[0]"
   ]
  },
  {
   "cell_type": "markdown",
   "metadata": {},
   "source": [
    "<div class=\"alert alert-block alert-info\">\n",
    "Y podemos obtener los valores x,y,z:"
   ]
  },
  {
   "cell_type": "code",
   "execution_count": 6,
   "metadata": {},
   "outputs": [
    {
     "name": "stdout",
     "output_type": "stream",
     "text": [
      "x: 0.5251173973083496 y: 0.6522732377052307 z: -1.2449032068252563\n"
     ]
    }
   ],
   "source": [
    "print(\"x:\", results.pose_landmarks.landmark[0].x,\"y:\", results.pose_landmarks.landmark[0].y,\"z:\", results.pose_landmarks.landmark[0].z)"
   ]
  },
  {
   "cell_type": "markdown",
   "metadata": {},
   "source": [
    "<div class=\"alert alert-block alert-info\">\n",
    "Ahora pasaremos al siguiente apartado para almacenar los datos obtenidos de results en un .csv\n",
    "\n",
    "----"
   ]
  },
  {
   "cell_type": "markdown",
   "metadata": {},
   "source": [
    "<a id=\"ej2\"></a>\n",
    "\n",
    "## 2. CAPTURAR LANDMARKS Y EXPORTAR A ARCHIVO CSV\n"
   ]
  },
  {
   "cell_type": "markdown",
   "metadata": {},
   "source": [
    "Importaremos 3 librerías para realizar el almacenamiento de datos.\n",
    " - **csv:** nos permitirá trabajar con archivos .csv y escribir nuestros datos en ellos.\n",
    " - **os:** usaremos para guardar los archivos en una carpeta específica. \n",
    " - **numpy:** utilizaremos numpy arrays para procesar la información."
   ]
  },
  {
   "cell_type": "code",
   "execution_count": 7,
   "metadata": {},
   "outputs": [],
   "source": [
    "#Importamos librerías necesarias:\n",
    "import csv\n",
    "import os\n",
    "import numpy as np"
   ]
  },
  {
   "cell_type": "markdown",
   "metadata": {},
   "source": [
    "<div class=\"alert alert-block alert-info\">\n",
    "Queremos cuatro valores de los landmarks: x,y,z,v; siendo v la visibilidad.  El modelo facial no dispone del valor de visibilidad, por lo que para todos los puntos de la cara tendremos un v con valor 0.\n",
    "    \n",
    "---\n",
    "    \n",
    "Vamos a loopear por todos los landmarks, por lo que nos interesa saber cuántos son. Ya hemos visto que para el pose teníamos 33 landmarks. Ahora nos faltará los de la cara.\n",
    "</div>"
   ]
  },
  {
   "cell_type": "code",
   "execution_count": 8,
   "metadata": {},
   "outputs": [
    {
     "data": {
      "text/plain": [
       "501"
      ]
     },
     "execution_count": 8,
     "metadata": {},
     "output_type": "execute_result"
    }
   ],
   "source": [
    "#Tenemos 501 coordenadas en total\n",
    "num_coords = len(results.pose_landmarks.landmark)+len(results.face_landmarks.landmark)\n",
    "num_coords"
   ]
  },
  {
   "cell_type": "markdown",
   "metadata": {},
   "source": [
    "<div class=\"alert alert-block alert-info\">\n",
    "Clasificaremos los coordenadas de cada landmark con su número de identificación.\n",
    "</div>"
   ]
  },
  {
   "cell_type": "code",
   "execution_count": 9,
   "metadata": {},
   "outputs": [
    {
     "name": "stdout",
     "output_type": "stream",
     "text": [
      "['class', 'x1', 'y1', 'z1', 'v1', 'x2', 'y2', 'z2', 'v2', 'x3', 'y3', 'z3', 'v3']\n"
     ]
    }
   ],
   "source": [
    "#la primera columna servirá de identificación de clase \n",
    "landmarks = ['class']\n",
    "\n",
    "for val in range(1,num_coords+1):\n",
    "    landmarks += ['x{}'.format(val), 'y{}'.format(val),'z{}'.format(val),'v{}'.format(val)]\n",
    "\n",
    "#Mostramos ejemplo:\n",
    "print(landmarks[0:13])"
   ]
  },
  {
   "cell_type": "markdown",
   "metadata": {},
   "source": [
    "<div class=\"alert alert-block alert-info\">\n",
    "Ahora empezaremos con la exportación al archivo .csv. Escribiremos los nombres de las columnas.\n",
    "</div>"
   ]
  },
  {
   "cell_type": "code",
   "execution_count": 10,
   "metadata": {},
   "outputs": [],
   "source": [
    "with open('coords.csv', mode='w', newline='') as f:\n",
    "    csv_writer = csv.writer(f, delimiter=',', quotechar='\"', quoting=csv.QUOTE_MINIMAL)\n",
    "    csv_writer.writerow(landmarks)"
   ]
  },
  {
   "cell_type": "markdown",
   "metadata": {},
   "source": [
    "<div class=\"alert alert-block alert-info\">\n",
    "Ahora, obtenemos un .csv (en la misma carpeta de este archivo) en el cual tenemos las columnas nombradas. \n",
    "    \n",
    "---\n",
    "    \n",
    "Vamos ahora a recopilar datos. Para ello, necesitamos dos clases, el de cansado y despierto. Para cada clase, recogeremos los datos desde la cámara."
   ]
  },
  {
   "cell_type": "code",
   "execution_count": 72,
   "metadata": {},
   "outputs": [],
   "source": [
    "class_name = \"Cansado\""
   ]
  },
  {
   "cell_type": "code",
   "execution_count": 73,
   "metadata": {},
   "outputs": [],
   "source": [
    "#Conectamos a la cámara frontal (Webcam)\n",
    "cap = cv2.VideoCapture(0)\n",
    "\n",
    "# Iniciamos el modelo holístico\n",
    "with mp_holistic.Holistic(min_detection_confidence=0.5, min_tracking_confidence=0.5) as holistic:\n",
    "    \n",
    "    while cap.isOpened():\n",
    "\n",
    "        # Se guarda la imagen en frame\n",
    "        ret, frame = cap.read()\n",
    "        \n",
    "        # #Reformatear: BGR -> RGR\n",
    "        image = cv2.cvtColor(frame, cv2.COLOR_BGR2RGB)\n",
    "        \n",
    "        #Para proteger las imágenes\n",
    "        image.flags.writeable = False\n",
    "        \n",
    "        #Aplicamos el process para obtener el holistico\n",
    "        results = holistic.process(image)\n",
    "\n",
    "        # RGB -> BGR para renderizar\n",
    "        image.flags.writeable = True  \n",
    "        image = cv2.cvtColor(image, cv2.COLOR_RGB2BGR)\n",
    "        \n",
    "        # 1. Face landmarks\n",
    "        mp_drawing.draw_landmarks(image, results.face_landmarks, mp_holistic.FACEMESH_TESSELATION, \n",
    "                                 mp_drawing.DrawingSpec(color=(80,110,10), thickness=1, circle_radius=1),\n",
    "                                 mp_drawing.DrawingSpec(color=(80,256,121), thickness=1, circle_radius=1)\n",
    "                                 )\n",
    "        \n",
    "        # 2. Right hand\n",
    "        mp_drawing.draw_landmarks(image, results.right_hand_landmarks, mp_holistic.HAND_CONNECTIONS, \n",
    "                                 mp_drawing.DrawingSpec(color=(80,22,10), thickness=2, circle_radius=4),\n",
    "                                 mp_drawing.DrawingSpec(color=(80,44,121), thickness=2, circle_radius=2)\n",
    "                                 )\n",
    "  \n",
    "        # 3. Left Hand\n",
    "        mp_drawing.draw_landmarks(image, results.left_hand_landmarks, mp_holistic.HAND_CONNECTIONS, \n",
    "                                 mp_drawing.DrawingSpec(color=(121,22,76), thickness=2, circle_radius=4),\n",
    "                                 mp_drawing.DrawingSpec(color=(121,44,250), thickness=2, circle_radius=2)\n",
    "                                 )\n",
    "\n",
    "        # 4. Pose Detections\n",
    "        mp_drawing.draw_landmarks(image, results.pose_landmarks, mp_holistic.POSE_CONNECTIONS, \n",
    "                                 mp_drawing.DrawingSpec(color=(245,117,66), thickness=2, circle_radius=4),\n",
    "                                 mp_drawing.DrawingSpec(color=(245,66,230), thickness=2, circle_radius=2)\n",
    "                                 )\n",
    "        \n",
    "        # Exportamos las coordenadas\n",
    "        try:\n",
    "\n",
    "            # Guardamos los datos del pose y face en un np array\n",
    "            # Extraemos Pose landmarks ( el método .flatten() convierte el np array en 1D)\n",
    "            pose = results.pose_landmarks.landmark\n",
    "            pose_row = list(np.array([[landmark.x, landmark.y, landmark.z, landmark.visibility] for landmark in pose]).flatten())\n",
    "           \n",
    "            # Extraemos Face landmarks            \n",
    "            face = results.face_landmarks.landmark\n",
    "            face_row = list(np.array([[landmark.x, landmark.y, landmark.z, landmark.visibility] for landmark in face]).flatten())\n",
    "        \n",
    "            row = pose_row + face_row\n",
    "            row.insert(0,class_name)\n",
    "            \n",
    "            #Exportar a CSV\n",
    "            with open('coords.csv',mode='a', newline='') as f:\n",
    "                csv_writer = csv.writer(f, delimiter=',', quotechar='\"', quoting=csv.QUOTE_MINIMAL)\n",
    "                csv_writer.writerow(row)\n",
    "\n",
    "        except:\n",
    "            pass\n",
    "        \n",
    "        #Mostramos la imagen\n",
    "        cv2.imshow('Raw Webcam Feed', image)\n",
    "\n",
    "        # Para salir, pulsamos la tecla 'q'\n",
    "        if cv2.waitKey(10) & 0xFF == ord('q'):\n",
    "            break\n",
    "\n",
    "cap.release()\n",
    "cv2.destroyAllWindows()"
   ]
  },
  {
   "cell_type": "markdown",
   "metadata": {},
   "source": [
    "<a id=\"ej3\"></a>\n",
    "\n",
    "## 3. ENTRENAR MODELO UTILIZANDO Scikit Learn"
   ]
  },
  {
   "cell_type": "markdown",
   "metadata": {},
   "source": [
    "### 3.1 CARGAR DATOS CON PANDAS"
   ]
  },
  {
   "cell_type": "markdown",
   "metadata": {},
   "source": [
    "Ahora necesitamos otras dos librerías para entrenar el modelo.\n",
    " - Pandas: para el procesamiento del dataframe (df)\n",
    " - Sklearn: en concreto *train_test_split*, con el cual dividiremos el dataset en dos: uno para el entrenamiento y el segundo para validar los modelos. "
   ]
  },
  {
   "cell_type": "code",
   "execution_count": 74,
   "metadata": {},
   "outputs": [],
   "source": [
    "import pandas as pd\n",
    "from sklearn.model_selection import train_test_split"
   ]
  },
  {
   "cell_type": "code",
   "execution_count": 82,
   "metadata": {},
   "outputs": [
    {
     "data": {
      "text/html": [
       "<div>\n",
       "<style scoped>\n",
       "    .dataframe tbody tr th:only-of-type {\n",
       "        vertical-align: middle;\n",
       "    }\n",
       "\n",
       "    .dataframe tbody tr th {\n",
       "        vertical-align: top;\n",
       "    }\n",
       "\n",
       "    .dataframe thead th {\n",
       "        text-align: right;\n",
       "    }\n",
       "</style>\n",
       "<table border=\"1\" class=\"dataframe\">\n",
       "  <thead>\n",
       "    <tr style=\"text-align: right;\">\n",
       "      <th></th>\n",
       "      <th>class</th>\n",
       "      <th>0.5925989747047424</th>\n",
       "      <th>0.5884896516799927</th>\n",
       "      <th>-1.2507920265197754</th>\n",
       "      <th>0.9995885491371155</th>\n",
       "      <th>0.6283556818962097</th>\n",
       "      <th>0.5241056680679321</th>\n",
       "      <th>-1.18904447555542</th>\n",
       "      <th>0.9990204572677612</th>\n",
       "      <th>0.6487206816673279</th>\n",
       "      <th>...</th>\n",
       "      <th>-0.002297681989148259</th>\n",
       "      <th>0.0.465</th>\n",
       "      <th>0.6713571548461914</th>\n",
       "      <th>0.5337255001068115</th>\n",
       "      <th>0.017656950280070305</th>\n",
       "      <th>0.0.466</th>\n",
       "      <th>0.677161693572998</th>\n",
       "      <th>0.5292463898658752</th>\n",
       "      <th>0.018023835495114326</th>\n",
       "      <th>0.0.467</th>\n",
       "    </tr>\n",
       "  </thead>\n",
       "  <tbody>\n",
       "    <tr>\n",
       "      <th>0</th>\n",
       "      <td>Despierto</td>\n",
       "      <td>0.590247</td>\n",
       "      <td>0.585625</td>\n",
       "      <td>-1.309817</td>\n",
       "      <td>0.999558</td>\n",
       "      <td>0.626095</td>\n",
       "      <td>0.520771</td>\n",
       "      <td>-1.242184</td>\n",
       "      <td>0.998981</td>\n",
       "      <td>0.647467</td>\n",
       "      <td>...</td>\n",
       "      <td>-0.003721</td>\n",
       "      <td>0.0</td>\n",
       "      <td>0.670170</td>\n",
       "      <td>0.533347</td>\n",
       "      <td>0.017821</td>\n",
       "      <td>0.0</td>\n",
       "      <td>0.675708</td>\n",
       "      <td>0.529805</td>\n",
       "      <td>0.018240</td>\n",
       "      <td>0.0</td>\n",
       "    </tr>\n",
       "    <tr>\n",
       "      <th>1</th>\n",
       "      <td>Despierto</td>\n",
       "      <td>0.588716</td>\n",
       "      <td>0.583794</td>\n",
       "      <td>-1.351447</td>\n",
       "      <td>0.999538</td>\n",
       "      <td>0.624573</td>\n",
       "      <td>0.518546</td>\n",
       "      <td>-1.280802</td>\n",
       "      <td>0.998957</td>\n",
       "      <td>0.646577</td>\n",
       "      <td>...</td>\n",
       "      <td>-0.002340</td>\n",
       "      <td>0.0</td>\n",
       "      <td>0.669821</td>\n",
       "      <td>0.532206</td>\n",
       "      <td>0.018979</td>\n",
       "      <td>0.0</td>\n",
       "      <td>0.675474</td>\n",
       "      <td>0.528500</td>\n",
       "      <td>0.019327</td>\n",
       "      <td>0.0</td>\n",
       "    </tr>\n",
       "    <tr>\n",
       "      <th>2</th>\n",
       "      <td>Despierto</td>\n",
       "      <td>0.587841</td>\n",
       "      <td>0.582345</td>\n",
       "      <td>-1.339246</td>\n",
       "      <td>0.999519</td>\n",
       "      <td>0.623477</td>\n",
       "      <td>0.516835</td>\n",
       "      <td>-1.270343</td>\n",
       "      <td>0.998940</td>\n",
       "      <td>0.645889</td>\n",
       "      <td>...</td>\n",
       "      <td>-0.002133</td>\n",
       "      <td>0.0</td>\n",
       "      <td>0.668993</td>\n",
       "      <td>0.532249</td>\n",
       "      <td>0.018921</td>\n",
       "      <td>0.0</td>\n",
       "      <td>0.674627</td>\n",
       "      <td>0.528241</td>\n",
       "      <td>0.019299</td>\n",
       "      <td>0.0</td>\n",
       "    </tr>\n",
       "    <tr>\n",
       "      <th>3</th>\n",
       "      <td>Despierto</td>\n",
       "      <td>0.586610</td>\n",
       "      <td>0.581507</td>\n",
       "      <td>-1.354581</td>\n",
       "      <td>0.999478</td>\n",
       "      <td>0.622621</td>\n",
       "      <td>0.515724</td>\n",
       "      <td>-1.286509</td>\n",
       "      <td>0.998871</td>\n",
       "      <td>0.645388</td>\n",
       "      <td>...</td>\n",
       "      <td>-0.002080</td>\n",
       "      <td>0.0</td>\n",
       "      <td>0.668545</td>\n",
       "      <td>0.532245</td>\n",
       "      <td>0.019440</td>\n",
       "      <td>0.0</td>\n",
       "      <td>0.674098</td>\n",
       "      <td>0.528355</td>\n",
       "      <td>0.019876</td>\n",
       "      <td>0.0</td>\n",
       "    </tr>\n",
       "    <tr>\n",
       "      <th>4</th>\n",
       "      <td>Despierto</td>\n",
       "      <td>0.586083</td>\n",
       "      <td>0.580998</td>\n",
       "      <td>-1.367312</td>\n",
       "      <td>0.999493</td>\n",
       "      <td>0.622170</td>\n",
       "      <td>0.514995</td>\n",
       "      <td>-1.300065</td>\n",
       "      <td>0.998895</td>\n",
       "      <td>0.645067</td>\n",
       "      <td>...</td>\n",
       "      <td>-0.002755</td>\n",
       "      <td>0.0</td>\n",
       "      <td>0.668536</td>\n",
       "      <td>0.532499</td>\n",
       "      <td>0.018190</td>\n",
       "      <td>0.0</td>\n",
       "      <td>0.674081</td>\n",
       "      <td>0.528782</td>\n",
       "      <td>0.018540</td>\n",
       "      <td>0.0</td>\n",
       "    </tr>\n",
       "    <tr>\n",
       "      <th>...</th>\n",
       "      <td>...</td>\n",
       "      <td>...</td>\n",
       "      <td>...</td>\n",
       "      <td>...</td>\n",
       "      <td>...</td>\n",
       "      <td>...</td>\n",
       "      <td>...</td>\n",
       "      <td>...</td>\n",
       "      <td>...</td>\n",
       "      <td>...</td>\n",
       "      <td>...</td>\n",
       "      <td>...</td>\n",
       "      <td>...</td>\n",
       "      <td>...</td>\n",
       "      <td>...</td>\n",
       "      <td>...</td>\n",
       "      <td>...</td>\n",
       "      <td>...</td>\n",
       "      <td>...</td>\n",
       "      <td>...</td>\n",
       "      <td>...</td>\n",
       "    </tr>\n",
       "    <tr>\n",
       "      <th>858</th>\n",
       "      <td>Cansado</td>\n",
       "      <td>0.528294</td>\n",
       "      <td>0.612086</td>\n",
       "      <td>-1.301606</td>\n",
       "      <td>0.998209</td>\n",
       "      <td>0.569529</td>\n",
       "      <td>0.530228</td>\n",
       "      <td>-1.252487</td>\n",
       "      <td>0.996434</td>\n",
       "      <td>0.594966</td>\n",
       "      <td>...</td>\n",
       "      <td>-0.015079</td>\n",
       "      <td>0.0</td>\n",
       "      <td>0.615112</td>\n",
       "      <td>0.505994</td>\n",
       "      <td>0.004764</td>\n",
       "      <td>0.0</td>\n",
       "      <td>0.621191</td>\n",
       "      <td>0.501128</td>\n",
       "      <td>0.004500</td>\n",
       "      <td>0.0</td>\n",
       "    </tr>\n",
       "    <tr>\n",
       "      <th>859</th>\n",
       "      <td>Cansado</td>\n",
       "      <td>0.518735</td>\n",
       "      <td>0.613739</td>\n",
       "      <td>-1.328865</td>\n",
       "      <td>0.998278</td>\n",
       "      <td>0.561273</td>\n",
       "      <td>0.530614</td>\n",
       "      <td>-1.279767</td>\n",
       "      <td>0.996530</td>\n",
       "      <td>0.586753</td>\n",
       "      <td>...</td>\n",
       "      <td>-0.015628</td>\n",
       "      <td>0.0</td>\n",
       "      <td>0.605091</td>\n",
       "      <td>0.501498</td>\n",
       "      <td>0.001755</td>\n",
       "      <td>0.0</td>\n",
       "      <td>0.611227</td>\n",
       "      <td>0.496695</td>\n",
       "      <td>0.001264</td>\n",
       "      <td>0.0</td>\n",
       "    </tr>\n",
       "    <tr>\n",
       "      <th>860</th>\n",
       "      <td>Cansado</td>\n",
       "      <td>0.511096</td>\n",
       "      <td>0.614515</td>\n",
       "      <td>-1.305153</td>\n",
       "      <td>0.998371</td>\n",
       "      <td>0.555154</td>\n",
       "      <td>0.530650</td>\n",
       "      <td>-1.258515</td>\n",
       "      <td>0.996678</td>\n",
       "      <td>0.580809</td>\n",
       "      <td>...</td>\n",
       "      <td>-0.015079</td>\n",
       "      <td>0.0</td>\n",
       "      <td>0.602980</td>\n",
       "      <td>0.501220</td>\n",
       "      <td>0.002336</td>\n",
       "      <td>0.0</td>\n",
       "      <td>0.609186</td>\n",
       "      <td>0.496648</td>\n",
       "      <td>0.001854</td>\n",
       "      <td>0.0</td>\n",
       "    </tr>\n",
       "    <tr>\n",
       "      <th>861</th>\n",
       "      <td>Cansado</td>\n",
       "      <td>0.509096</td>\n",
       "      <td>0.614736</td>\n",
       "      <td>-1.275277</td>\n",
       "      <td>0.998452</td>\n",
       "      <td>0.553073</td>\n",
       "      <td>0.530675</td>\n",
       "      <td>-1.228548</td>\n",
       "      <td>0.996814</td>\n",
       "      <td>0.578445</td>\n",
       "      <td>...</td>\n",
       "      <td>-0.015052</td>\n",
       "      <td>0.0</td>\n",
       "      <td>0.600514</td>\n",
       "      <td>0.498998</td>\n",
       "      <td>0.001501</td>\n",
       "      <td>0.0</td>\n",
       "      <td>0.606683</td>\n",
       "      <td>0.494332</td>\n",
       "      <td>0.000951</td>\n",
       "      <td>0.0</td>\n",
       "    </tr>\n",
       "    <tr>\n",
       "      <th>862</th>\n",
       "      <td>Cansado</td>\n",
       "      <td>0.502575</td>\n",
       "      <td>0.614959</td>\n",
       "      <td>-1.228879</td>\n",
       "      <td>0.998544</td>\n",
       "      <td>0.548340</td>\n",
       "      <td>0.530704</td>\n",
       "      <td>-1.186019</td>\n",
       "      <td>0.996978</td>\n",
       "      <td>0.574542</td>\n",
       "      <td>...</td>\n",
       "      <td>-0.015189</td>\n",
       "      <td>0.0</td>\n",
       "      <td>0.595005</td>\n",
       "      <td>0.499162</td>\n",
       "      <td>-0.000588</td>\n",
       "      <td>0.0</td>\n",
       "      <td>0.601226</td>\n",
       "      <td>0.494027</td>\n",
       "      <td>-0.001214</td>\n",
       "      <td>0.0</td>\n",
       "    </tr>\n",
       "  </tbody>\n",
       "</table>\n",
       "<p>863 rows × 2005 columns</p>\n",
       "</div>"
      ],
      "text/plain": [
       "         class  0.5925989747047424  0.5884896516799927  -1.2507920265197754  \\\n",
       "0    Despierto            0.590247            0.585625            -1.309817   \n",
       "1    Despierto            0.588716            0.583794            -1.351447   \n",
       "2    Despierto            0.587841            0.582345            -1.339246   \n",
       "3    Despierto            0.586610            0.581507            -1.354581   \n",
       "4    Despierto            0.586083            0.580998            -1.367312   \n",
       "..         ...                 ...                 ...                  ...   \n",
       "858    Cansado            0.528294            0.612086            -1.301606   \n",
       "859    Cansado            0.518735            0.613739            -1.328865   \n",
       "860    Cansado            0.511096            0.614515            -1.305153   \n",
       "861    Cansado            0.509096            0.614736            -1.275277   \n",
       "862    Cansado            0.502575            0.614959            -1.228879   \n",
       "\n",
       "     0.9995885491371155  0.6283556818962097  0.5241056680679321  \\\n",
       "0              0.999558            0.626095            0.520771   \n",
       "1              0.999538            0.624573            0.518546   \n",
       "2              0.999519            0.623477            0.516835   \n",
       "3              0.999478            0.622621            0.515724   \n",
       "4              0.999493            0.622170            0.514995   \n",
       "..                  ...                 ...                 ...   \n",
       "858            0.998209            0.569529            0.530228   \n",
       "859            0.998278            0.561273            0.530614   \n",
       "860            0.998371            0.555154            0.530650   \n",
       "861            0.998452            0.553073            0.530675   \n",
       "862            0.998544            0.548340            0.530704   \n",
       "\n",
       "     -1.18904447555542  0.9990204572677612  0.6487206816673279  ...  \\\n",
       "0            -1.242184            0.998981            0.647467  ...   \n",
       "1            -1.280802            0.998957            0.646577  ...   \n",
       "2            -1.270343            0.998940            0.645889  ...   \n",
       "3            -1.286509            0.998871            0.645388  ...   \n",
       "4            -1.300065            0.998895            0.645067  ...   \n",
       "..                 ...                 ...                 ...  ...   \n",
       "858          -1.252487            0.996434            0.594966  ...   \n",
       "859          -1.279767            0.996530            0.586753  ...   \n",
       "860          -1.258515            0.996678            0.580809  ...   \n",
       "861          -1.228548            0.996814            0.578445  ...   \n",
       "862          -1.186019            0.996978            0.574542  ...   \n",
       "\n",
       "     -0.002297681989148259  0.0.465  0.6713571548461914  0.5337255001068115  \\\n",
       "0                -0.003721      0.0            0.670170            0.533347   \n",
       "1                -0.002340      0.0            0.669821            0.532206   \n",
       "2                -0.002133      0.0            0.668993            0.532249   \n",
       "3                -0.002080      0.0            0.668545            0.532245   \n",
       "4                -0.002755      0.0            0.668536            0.532499   \n",
       "..                     ...      ...                 ...                 ...   \n",
       "858              -0.015079      0.0            0.615112            0.505994   \n",
       "859              -0.015628      0.0            0.605091            0.501498   \n",
       "860              -0.015079      0.0            0.602980            0.501220   \n",
       "861              -0.015052      0.0            0.600514            0.498998   \n",
       "862              -0.015189      0.0            0.595005            0.499162   \n",
       "\n",
       "     0.017656950280070305  0.0.466  0.677161693572998  0.5292463898658752  \\\n",
       "0                0.017821      0.0           0.675708            0.529805   \n",
       "1                0.018979      0.0           0.675474            0.528500   \n",
       "2                0.018921      0.0           0.674627            0.528241   \n",
       "3                0.019440      0.0           0.674098            0.528355   \n",
       "4                0.018190      0.0           0.674081            0.528782   \n",
       "..                    ...      ...                ...                 ...   \n",
       "858              0.004764      0.0           0.621191            0.501128   \n",
       "859              0.001755      0.0           0.611227            0.496695   \n",
       "860              0.002336      0.0           0.609186            0.496648   \n",
       "861              0.001501      0.0           0.606683            0.494332   \n",
       "862             -0.000588      0.0           0.601226            0.494027   \n",
       "\n",
       "     0.018023835495114326  0.0.467  \n",
       "0                0.018240      0.0  \n",
       "1                0.019327      0.0  \n",
       "2                0.019299      0.0  \n",
       "3                0.019876      0.0  \n",
       "4                0.018540      0.0  \n",
       "..                    ...      ...  \n",
       "858              0.004500      0.0  \n",
       "859              0.001264      0.0  \n",
       "860              0.001854      0.0  \n",
       "861              0.000951      0.0  \n",
       "862             -0.001214      0.0  \n",
       "\n",
       "[863 rows x 2005 columns]"
      ]
     },
     "execution_count": 82,
     "metadata": {},
     "output_type": "execute_result"
    }
   ],
   "source": [
    "# Leemos el archivo .csv\n",
    "df = pd.read_csv(\"coords.csv\")\n",
    "df"
   ]
  },
  {
   "cell_type": "code",
   "execution_count": 83,
   "metadata": {},
   "outputs": [],
   "source": [
    "# Guardaremos las variables en X y el target en Y\n",
    "X = df.drop('class',axis=1)\n",
    "y = df['class']"
   ]
  },
  {
   "cell_type": "code",
   "execution_count": 84,
   "metadata": {},
   "outputs": [],
   "source": [
    "# Dividimos el dataset\n",
    "X_train, X_test, y_train, y_test = train_test_split(X, y, test_size = 0.3, random_state = 1000)"
   ]
  },
  {
   "cell_type": "markdown",
   "metadata": {},
   "source": [
    "### 3.2 MODELO DE CLASIFICACIÓN"
   ]
  },
  {
   "cell_type": "markdown",
   "metadata": {},
   "source": [
    "Para crear el modelo, necesitaremos importar varias librerías. Cabe mencionar que, para que no dependamos únicamente de un modelo de ML, se va a realizar 4 pipelines de modelos. \n",
    " - **sklearn.pipeline:** nos permitirá llevar a cabo esos 4 pipelines.\n",
    " - **sklearn.preprocessing:** Para la estandarización.\n",
    " - **sklearn.linear_model:** Para importar los modelos lineales *LogisticRegression* y *RidgeClassifier*.\n",
    " - **sklearn.ensemble:** Para importar modelos de ensemble como *RandomForestClassifier* y *GradientBoostingClassifier*."
   ]
  },
  {
   "cell_type": "code",
   "execution_count": 85,
   "metadata": {},
   "outputs": [],
   "source": [
    "#Importamos las funciones necesarias\n",
    "from sklearn.pipeline import make_pipeline\n",
    "from sklearn.preprocessing import StandardScaler\n",
    "from sklearn.linear_model import LogisticRegression, RidgeClassifier\n",
    "from sklearn.ensemble import RandomForestClassifier, GradientBoostingClassifier"
   ]
  },
  {
   "cell_type": "markdown",
   "metadata": {},
   "source": [
    "Realizaremos 4 modelos de ML para no depender únicamente de una.\n",
    " - Regresión Logística\n",
    " - Ridge Classifier\n",
    " - Random Forest Classifier\n",
    " - Gradient Boosting Classifier"
   ]
  },
  {
   "cell_type": "code",
   "execution_count": 86,
   "metadata": {},
   "outputs": [],
   "source": [
    "# Definimos los cuatro pipelines\n",
    "pipelines = {\n",
    "    'lr':make_pipeline(StandardScaler(), LogisticRegression()),\n",
    "    'rc':make_pipeline(StandardScaler(), RidgeClassifier()),\n",
    "    'rf':make_pipeline(StandardScaler(), RandomForestClassifier()),\n",
    "    'gb':make_pipeline(StandardScaler(), GradientBoostingClassifier()),\n",
    "}"
   ]
  },
  {
   "cell_type": "code",
   "execution_count": 87,
   "metadata": {},
   "outputs": [
    {
     "name": "stderr",
     "output_type": "stream",
     "text": [
      "C:\\Users\\Jokin Cuesta\\anaconda3\\lib\\site-packages\\sklearn\\linear_model\\_logistic.py:763: ConvergenceWarning: lbfgs failed to converge (status=1):\n",
      "STOP: TOTAL NO. of ITERATIONS REACHED LIMIT.\n",
      "\n",
      "Increase the number of iterations (max_iter) or scale the data as shown in:\n",
      "    https://scikit-learn.org/stable/modules/preprocessing.html\n",
      "Please also refer to the documentation for alternative solver options:\n",
      "    https://scikit-learn.org/stable/modules/linear_model.html#logistic-regression\n",
      "  n_iter_i = _check_optimize_result(\n"
     ]
    }
   ],
   "source": [
    "# Guardamos los modelos en la biblioteca fit_models\n",
    "fit_models = {}\n",
    "for algo, pipeline in pipelines.items():\n",
    "    model = pipeline.fit(X_train, y_train)\n",
    "    fit_models[algo] = model"
   ]
  },
  {
   "cell_type": "code",
   "execution_count": 88,
   "metadata": {},
   "outputs": [
    {
     "data": {
      "text/plain": [
       "array(['Cansado', 'Despierto', 'Despierto', 'Cansado', 'Despierto',\n",
       "       'Despierto', 'Cansado', 'Cansado', 'Cansado', 'Despierto',\n",
       "       'Cansado', 'Cansado', 'Despierto', 'Cansado', 'Cansado', 'Cansado',\n",
       "       'Cansado', 'Cansado', 'Despierto', 'Despierto', 'Despierto',\n",
       "       'Cansado', 'Cansado', 'Cansado', 'Cansado', 'Cansado', 'Cansado',\n",
       "       'Despierto', 'Despierto', 'Cansado', 'Cansado', 'Cansado',\n",
       "       'Cansado', 'Cansado', 'Despierto', 'Cansado', 'Cansado',\n",
       "       'Despierto', 'Cansado', 'Despierto', 'Despierto', 'Cansado',\n",
       "       'Cansado', 'Cansado', 'Cansado', 'Despierto', 'Cansado',\n",
       "       'Despierto', 'Despierto', 'Cansado', 'Despierto', 'Despierto',\n",
       "       'Despierto', 'Cansado', 'Cansado', 'Despierto', 'Cansado',\n",
       "       'Cansado', 'Cansado', 'Cansado', 'Cansado', 'Cansado', 'Despierto',\n",
       "       'Cansado', 'Despierto', 'Cansado', 'Despierto', 'Despierto',\n",
       "       'Cansado', 'Cansado', 'Despierto', 'Despierto', 'Cansado',\n",
       "       'Despierto', 'Cansado', 'Despierto', 'Despierto', 'Despierto',\n",
       "       'Despierto', 'Despierto', 'Despierto', 'Cansado', 'Cansado',\n",
       "       'Cansado', 'Cansado', 'Despierto', 'Despierto', 'Despierto',\n",
       "       'Cansado', 'Despierto', 'Cansado', 'Cansado', 'Despierto',\n",
       "       'Cansado', 'Cansado', 'Despierto', 'Despierto', 'Cansado',\n",
       "       'Despierto', 'Despierto', 'Despierto', 'Cansado', 'Despierto',\n",
       "       'Despierto', 'Cansado', 'Despierto', 'Despierto', 'Cansado',\n",
       "       'Despierto', 'Despierto', 'Cansado', 'Cansado', 'Cansado',\n",
       "       'Cansado', 'Despierto', 'Cansado', 'Cansado', 'Cansado',\n",
       "       'Despierto', 'Cansado', 'Despierto', 'Despierto', 'Cansado',\n",
       "       'Despierto', 'Cansado', 'Cansado', 'Despierto', 'Despierto',\n",
       "       'Cansado', 'Despierto', 'Despierto', 'Despierto', 'Despierto',\n",
       "       'Cansado', 'Despierto', 'Cansado', 'Cansado', 'Cansado', 'Cansado',\n",
       "       'Cansado', 'Despierto', 'Despierto', 'Cansado', 'Despierto',\n",
       "       'Cansado', 'Cansado', 'Despierto', 'Cansado', 'Despierto',\n",
       "       'Cansado', 'Cansado', 'Despierto', 'Cansado', 'Despierto',\n",
       "       'Despierto', 'Cansado', 'Despierto', 'Cansado', 'Despierto',\n",
       "       'Cansado', 'Despierto', 'Despierto', 'Cansado', 'Despierto',\n",
       "       'Cansado', 'Despierto', 'Despierto', 'Despierto', 'Cansado',\n",
       "       'Despierto', 'Cansado', 'Despierto', 'Cansado', 'Despierto',\n",
       "       'Despierto', 'Cansado', 'Cansado', 'Despierto', 'Cansado',\n",
       "       'Cansado', 'Cansado', 'Cansado', 'Cansado', 'Despierto',\n",
       "       'Despierto', 'Despierto', 'Cansado', 'Cansado', 'Cansado',\n",
       "       'Cansado', 'Despierto', 'Cansado', 'Despierto', 'Despierto',\n",
       "       'Cansado', 'Cansado', 'Cansado', 'Despierto', 'Despierto',\n",
       "       'Despierto', 'Despierto', 'Despierto', 'Cansado', 'Despierto',\n",
       "       'Cansado', 'Cansado', 'Cansado', 'Cansado', 'Cansado', 'Cansado',\n",
       "       'Despierto', 'Despierto', 'Cansado', 'Cansado', 'Cansado',\n",
       "       'Despierto', 'Despierto', 'Despierto', 'Cansado', 'Despierto',\n",
       "       'Cansado', 'Despierto', 'Despierto', 'Despierto', 'Despierto',\n",
       "       'Despierto', 'Cansado', 'Despierto', 'Despierto', 'Despierto',\n",
       "       'Despierto', 'Despierto', 'Despierto', 'Cansado', 'Cansado',\n",
       "       'Cansado', 'Cansado', 'Despierto', 'Cansado', 'Cansado', 'Cansado',\n",
       "       'Despierto', 'Cansado', 'Cansado', 'Cansado', 'Despierto',\n",
       "       'Despierto', 'Cansado', 'Cansado', 'Despierto', 'Despierto',\n",
       "       'Cansado', 'Cansado', 'Cansado', 'Cansado', 'Cansado', 'Cansado',\n",
       "       'Cansado', 'Cansado'], dtype=object)"
      ]
     },
     "execution_count": 88,
     "metadata": {},
     "output_type": "execute_result"
    }
   ],
   "source": [
    "# Probamos a predecir X_test con el modelo de Random Forest\n",
    "fit_models['rf'].predict(X_test)"
   ]
  },
  {
   "cell_type": "markdown",
   "metadata": {},
   "source": [
    "### 3.3 EVALUACIÓN Y SERIALIZACIÓN DEL MODELO"
   ]
  },
  {
   "cell_type": "markdown",
   "metadata": {},
   "source": [
    "Ahora es hora de evaluar los modelos construidos. Para ello importaremos:\n",
    "- **sklearn.metrics:** la función *accuracy_score* para obtener la precisión obtenida de cada modelo al predecir los *targets* de X_test.\n",
    "- **pickle:** para la serialización del modelo.\n"
   ]
  },
  {
   "cell_type": "code",
   "execution_count": 89,
   "metadata": {},
   "outputs": [],
   "source": [
    "from sklearn.metrics import accuracy_score\n",
    "import pickle"
   ]
  },
  {
   "cell_type": "markdown",
   "metadata": {},
   "source": [
    "<div class=\"alert alert-block alert-info\">\n",
    "A continuación se predicen las clases de X_test para cada modelo."
   ]
  },
  {
   "cell_type": "code",
   "execution_count": 90,
   "metadata": {},
   "outputs": [
    {
     "name": "stdout",
     "output_type": "stream",
     "text": [
      "lr 1.0\n",
      "rc 1.0\n",
      "rf 0.9961389961389961\n",
      "gb 0.9922779922779923\n"
     ]
    }
   ],
   "source": [
    "#Predecir las clases de X_test\n",
    "for algo, model in fit_models.items():\n",
    "    yhat = model.predict(X_test)\n",
    "    \n",
    "    #Mostramos las precisiones de cada modelo\n",
    "    print(algo, accuracy_score(y_test, yhat))"
   ]
  },
  {
   "cell_type": "markdown",
   "metadata": {},
   "source": [
    "<div class=\"alert alert-block alert-info\">\n",
    "Se ve que para los primeros dos (*LogisticRegression*, *RidgeClassifier*), la precisión ha sido del 100%. Para *GradientBoostingClassifier* y *RandomForestClassifier* 99.6%. Por elección propia, utilizaré el *RandomForestClassifier*.\n",
    "\n",
    "---\n",
    "\n",
    "Se serializa entonces el modelo obtenido en un archivo .pkl:"
   ]
  },
  {
   "cell_type": "code",
   "execution_count": 91,
   "metadata": {},
   "outputs": [],
   "source": [
    "# Escribimos el modelo en un archivo .pkl\n",
    "with open('cansado_despierto.pkl', 'wb') as f:\n",
    "    pickle.dump(fit_models['rf'], f)"
   ]
  },
  {
   "cell_type": "markdown",
   "metadata": {},
   "source": [
    "# 4.  DETECCIONES Y ALERTA AL USUARIO\n",
    "<div class=\"alert alert-block alert-info\">\n",
    "Vamos a ir a la parte final de este proyecto. Realizaremos las detecciones de cansado o despierto con el modelo entrenado. Para ello, volvemos a abrir el modelo serializado."
   ]
  },
  {
   "cell_type": "code",
   "execution_count": 92,
   "metadata": {},
   "outputs": [],
   "source": [
    "# Abrimos de nuevo el modelo\n",
    "with open('cansado_despierto.pkl', 'rb') as f:\n",
    "    model = pickle.load(f)"
   ]
  },
  {
   "cell_type": "markdown",
   "metadata": {},
   "source": [
    "<div class=\"alert alert-block alert-info\">\n",
    "De nuevo se abrirá la cámara y con la ayuda de MediaPipe haremos detecciones de los landmarks. El modelo será capaz de predecir el estado del/la usuario/a con esos datos. En la pantalla, vamos a mostrar la clase predicha y su probabilidad.\n",
    "\n",
    "---\n",
    "\n",
    "Cuando la probabilidad de estar cansado supere el 70%, vamos a alertar al usuario que necesita un descanso en un rectángulo rojo, como símbolo de alerta."
   ]
  },
  {
   "cell_type": "code",
   "execution_count": 94,
   "metadata": {},
   "outputs": [],
   "source": [
    "#Conectamos la cámara\n",
    "cap = cv2.VideoCapture(0)\n",
    "\n",
    "# Inicia el modelo holístico\n",
    "with mp_holistic.Holistic(min_detection_confidence=0.5, min_tracking_confidence=0.5) as holistic:\n",
    "    \n",
    "    while cap.isOpened():\n",
    "        \n",
    "        #Se guarda la imagen en frame\n",
    "        ret, frame = cap.read()\n",
    "        \n",
    "        # BGR -> RGB y seguridad de la imagen.\n",
    "        image = cv2.cvtColor(frame, cv2.COLOR_BGR2RGB)\n",
    "        image.flags.writeable = False        \n",
    "        \n",
    "        # Detecciones\n",
    "        results = holistic.process(image)\n",
    "        \n",
    "        # RGB -> BGR y seguridad de la imagen.        \n",
    "        image.flags.writeable = True   \n",
    "        image = cv2.cvtColor(image, cv2.COLOR_RGB2BGR)\n",
    "        \n",
    "        # 1. Face landmarks\n",
    "        mp_drawing.draw_landmarks(image, results.face_landmarks, mp_holistic.FACEMESH_TESSELATION, \n",
    "                                 mp_drawing.DrawingSpec(color=(80,110,10), thickness=1, circle_radius=1),\n",
    "                                 mp_drawing.DrawingSpec(color=(80,256,121), thickness=1, circle_radius=1)\n",
    "                                 )\n",
    "        \n",
    "        # 2. Right hand\n",
    "        mp_drawing.draw_landmarks(image, results.right_hand_landmarks, mp_holistic.HAND_CONNECTIONS, \n",
    "                                 mp_drawing.DrawingSpec(color=(80,22,10), thickness=2, circle_radius=4),\n",
    "                                 mp_drawing.DrawingSpec(color=(80,44,121), thickness=2, circle_radius=2)\n",
    "                                 )\n",
    "\n",
    "        # 3. Left Hand\n",
    "        mp_drawing.draw_landmarks(image, results.left_hand_landmarks, mp_holistic.HAND_CONNECTIONS, \n",
    "                                 mp_drawing.DrawingSpec(color=(121,22,76), thickness=2, circle_radius=4),\n",
    "                                 mp_drawing.DrawingSpec(color=(121,44,250), thickness=2, circle_radius=2)\n",
    "                                 )\n",
    "\n",
    "        # 4. Pose Detections\n",
    "        mp_drawing.draw_landmarks(image, results.pose_landmarks, mp_holistic.POSE_CONNECTIONS, \n",
    "                                 mp_drawing.DrawingSpec(color=(245,117,66), thickness=2, circle_radius=4),\n",
    "                                 mp_drawing.DrawingSpec(color=(245,66,230), thickness=2, circle_radius=2)\n",
    "                                 )\n",
    "        # Exporta coordenadas\n",
    "        try:\n",
    "            # Extraemos Pose landmarks\n",
    "            pose = results.pose_landmarks.landmark\n",
    "            pose_row = list(np.array([[landmark.x, landmark.y, landmark.z, landmark.visibility] for landmark in pose]).flatten())\n",
    "            \n",
    "            # Extraemos Face landmarks\n",
    "            face = results.face_landmarks.landmark\n",
    "            face_row = list(np.array([[landmark.x, landmark.y, landmark.z, landmark.visibility] for landmark in face]).flatten())\n",
    "            \n",
    "            # Concatenamos las filas\n",
    "            row = pose_row+face_row\n",
    "\n",
    "            # Hacemos detecciones\n",
    "            X = pd.DataFrame([row])\n",
    "            \n",
    "            # Predecir la clase\n",
    "            body_language_class = model.predict(X)[0]     \n",
    "            \n",
    "            # Predecir la probabilidad de la clase\n",
    "            body_language_prob = model.predict_proba(X)[0]\n",
    "            \n",
    "            # Recogemos coordenadas de la oreja izquierda para visualizar texto dinámicamente\n",
    "            coords = tuple(np.multiply(\n",
    "                            np.array(\n",
    "                                (results.pose_landmarks.landmark[mp_holistic.PoseLandmark.LEFT_EAR].x, \n",
    "                                 results.pose_landmarks.landmark[mp_holistic.PoseLandmark.LEFT_EAR].y))\n",
    "                        , [640,480]).astype(int))\n",
    "            \n",
    "            \n",
    "            #Mostramos la clase en la oreja izq.\n",
    "            cv2.rectangle(image, \n",
    "                          (coords[0], coords[1]+5), \n",
    "                          (coords[0]+len(body_language_class)*20, coords[1]-30), \n",
    "                          (245, 117, 16), -1)\n",
    "            cv2.putText(image, body_language_class, coords, \n",
    "                        cv2.FONT_HERSHEY_SIMPLEX, 1, (255, 255, 255), 2, cv2.LINE_AA)\n",
    "            \n",
    "            # Status Box\n",
    "            cv2.rectangle(image, (0,0), (250, 60), (245, 117, 16), -1)\n",
    "            \n",
    "            # Mostramos Class\n",
    "            cv2.putText(image, 'CLASS'\n",
    "                        , (95,12), cv2.FONT_HERSHEY_SIMPLEX, 0.5, (0, 0, 0), 1, cv2.LINE_AA)\n",
    "            cv2.putText(image, body_language_class.split(' ')[0]\n",
    "                        , (90,40), cv2.FONT_HERSHEY_SIMPLEX, 1, (255, 255, 255), 2, cv2.LINE_AA)\n",
    "            \n",
    "            # Mostramos Probabilidad\n",
    "            cv2.putText(image, 'PROB'\n",
    "                        , (15,12), cv2.FONT_HERSHEY_SIMPLEX, 0.5, (0, 0, 0), 1, cv2.LINE_AA)\n",
    "            cv2.putText(image, str(round(body_language_prob[np.argmax(body_language_prob)],2))\n",
    "                        , (10,40), cv2.FONT_HERSHEY_SIMPLEX, 1, (255, 255, 255), 2, cv2.LINE_AA)\n",
    "\n",
    "            # Al estar muy cansado, activamos la alerta de descanso.\n",
    "            if (round(body_language_prob[np.argmax(body_language_prob)],2) > 0.70) and (body_language_class.split(' ')[0] == \"Cansado\"):\n",
    "                \n",
    "                cv2.rectangle(image, \n",
    "                          (coords[0], coords[1]+5), \n",
    "                          (coords[0]+len('MUY CANSADO')*20, coords[1]-30), \n",
    "                          (0, 0, 255), -1)\n",
    "                \n",
    "                cv2.putText(image, 'MUY CANSADO', coords, \n",
    "                        cv2.FONT_HERSHEY_SIMPLEX, 1, (255, 255, 255), 2, cv2.LINE_AA)\n",
    "                \n",
    "                cv2.rectangle(image, (0,0), (550, 60), (0, 0, 255), -1)\n",
    "                \n",
    "                cv2.putText(image, \"ALERTA! NECESITAS DESCANSAR\", (15,50), \n",
    "                        cv2.FONT_HERSHEY_SIMPLEX, 1, (255, 255, 255), 2, cv2.LINE_AA)               \n",
    "\n",
    "            \n",
    "        except:\n",
    "            pass\n",
    "                        \n",
    "        cv2.imshow('Raw Webcam Feed', image)\n",
    "\n",
    "        if cv2.waitKey(10) & 0xFF == ord('q'):\n",
    "            break\n",
    "\n",
    "cap.release()\n",
    "cv2.destroyAllWindows()"
   ]
  },
  {
   "cell_type": "markdown",
   "metadata": {},
   "source": [
    "# 5. CONCLUSIONES y PUNTOS A MEJORAR\n",
    "\n",
    "En este proyecto hemos realizado un detector de cansancio, como aplicación de seguridad para los/as conductores en la carretera. Los resultados obtenidos han sido satisfactorios (se muestran en el siguiente .gif) y podrían mejorarse teniendo más datos entrenados o tomando en cuenta más variables en cuanto al cansancio. Incluso se podría estudiar más clases donde añadiríamos distintos grados de cansancio.\n",
    "\n",
    "![imagen de gif ](https://i.ibb.co/pfYBY9H/Cansadodespierto.gif)"
   ]
  }
 ],
 "metadata": {
  "celltoolbar": "Raw Cell Format",
  "kernelspec": {
   "display_name": "Python 3",
   "language": "python",
   "name": "python3"
  },
  "language_info": {
   "codemirror_mode": {
    "name": "ipython",
    "version": 3
   },
   "file_extension": ".py",
   "mimetype": "text/x-python",
   "name": "python",
   "nbconvert_exporter": "python",
   "pygments_lexer": "ipython3",
   "version": "3.8.8"
  }
 },
 "nbformat": 4,
 "nbformat_minor": 2
}
